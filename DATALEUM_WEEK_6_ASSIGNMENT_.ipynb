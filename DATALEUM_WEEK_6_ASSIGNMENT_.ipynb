{
  "nbformat": 4,
  "nbformat_minor": 0,
  "metadata": {
    "colab": {
      "provenance": []
    },
    "kernelspec": {
      "name": "python3",
      "display_name": "Python 3"
    },
    "language_info": {
      "name": "python"
    }
  },
  "cells": [
    {
      "cell_type": "markdown",
      "source": [
        "# QUESTION 1"
      ],
      "metadata": {
        "id": "_t98gtKZhmLk"
      }
    },
    {
      "cell_type": "code",
      "execution_count": 1,
      "metadata": {
        "colab": {
          "base_uri": "https://localhost:8080/"
        },
        "id": "4g0UeIGxWmIB",
        "outputId": "174ef085-6b59-4740-f71b-ee2c5e41e9a4"
      },
      "outputs": [
        {
          "output_type": "stream",
          "name": "stdout",
          "text": [
            "Original Array:\n",
            " [[43 42 46 25 42]\n",
            " [13 11 28 43 27]\n",
            " [28 33 43 33 44]\n",
            " [13 47 18 37 46]\n",
            " [15 40 43 35 34]]\n",
            "\n",
            "Modified Array:\n",
            " [[43 -1 -1 25 -1]\n",
            " [13 11 -1 43 27]\n",
            " [-1 33 43 33 -1]\n",
            " [13 47 -1 37 -1]\n",
            " [15 -1 43 35 -1]]\n"
          ]
        }
      ],
      "source": [
        "# Create a NumPy array of shape (5, 5) filled with random integers between 10 and 50. Write a function that replaces all even numbers in the array with -1.\n",
        "\n",
        "import numpy as np\n",
        "\n",
        "def replace_even_with_minus_one(arr):\n",
        "  arr[arr % 2 == 0] = -1\n",
        "  return arr\n",
        "\n",
        "random_array = np.random.randint(10, 51, size=(5, 5))\n",
        "print(\"Original Array:\\n\", random_array)\n",
        "\n",
        "modified_array = replace_even_with_minus_one(random_array)\n",
        "print(\"\\nModified Array:\\n\", modified_array)\n"
      ]
    },
    {
      "cell_type": "markdown",
      "source": [
        "# QUESTION 2"
      ],
      "metadata": {
        "id": "Ccb_cUaOhecG"
      }
    },
    {
      "cell_type": "code",
      "source": [
        "\n",
        "def categorize_students(filepath):\n",
        "    \"\"\"\n",
        "    Categorizes students based on their scores and returns a dictionary of categories.\n",
        "\n",
        "    Args:\n",
        "        filepath: The path to the text file containing student data.\n",
        "\n",
        "    Returns:\n",
        "        A dictionary where keys are categories and values are lists of student names.\n",
        "        Returns an empty dictionary if the file is not found or an error occurs.\n",
        "    \"\"\"\n",
        "    try:\n",
        "        categories = {\"Excellent\": [], \"Average\": [], \"Needs Improvement\": []}\n",
        "        with open(filepath, 'r') as file:\n",
        "            for line in file:\n",
        "                try:\n",
        "                    name, score_str = line.strip().split(',')\n",
        "                    score = int(score_str)\n",
        "\n",
        "                    if score >= 80:\n",
        "                        categories[\"Excellent\"].append(name)\n",
        "                    elif 50 <= score <= 79:\n",
        "                        categories[\"Average\"].append(name)\n",
        "                    else:\n",
        "                        categories[\"Needs Improvement\"].append(name)\n",
        "                except ValueError:\n",
        "                    print(f\"Skipping invalid line: {line.strip()}\")\n",
        "        return categories\n",
        "    except FileNotFoundError:\n",
        "        print(f\"Error: File not found at {filepath}\")\n",
        "        return {}\n",
        "    except Exception as e:\n",
        "        print(f\"An error occurred: {e}\")\n",
        "        return {}\n",
        "\n",
        "filepath = 'student_scores.txt'\n",
        "student_categories = categorize_students(filepath)\n",
        "\n",
        "if student_categories:\n",
        "    for category, students in student_categories.items():\n",
        "        print(f\"{category}: {', '.join(students)}\")"
      ],
      "metadata": {
        "colab": {
          "base_uri": "https://localhost:8080/"
        },
        "id": "WQpOSQA-ggaJ",
        "outputId": "3f32f1e2-ca82-4d92-f1ba-a97bebd7eec1"
      },
      "execution_count": 17,
      "outputs": [
        {
          "output_type": "stream",
          "name": "stdout",
          "text": [
            "Excellent: Alice, David\n",
            "Average: Bob, Eve\n",
            "Needs Improvement: Charlie\n"
          ]
        }
      ]
    },
    {
      "cell_type": "markdown",
      "source": [
        "# QUESTION 3"
      ],
      "metadata": {
        "id": "VvWZq553hwTN"
      }
    },
    {
      "cell_type": "code",
      "source": [
        "from google.colab import files\n",
        "\n",
        "uploaded = files.upload()\n"
      ],
      "metadata": {
        "colab": {
          "base_uri": "https://localhost:8080/",
          "height": 72
        },
        "id": "9ds1Ut5edQR_",
        "outputId": "eabb5417-fd5f-4194-963d-56543afb98b3"
      },
      "execution_count": 24,
      "outputs": [
        {
          "output_type": "display_data",
          "data": {
            "text/plain": [
              "<IPython.core.display.HTML object>"
            ],
            "text/html": [
              "\n",
              "     <input type=\"file\" id=\"files-d924e0dc-2656-4ca5-b076-585e587039aa\" name=\"files[]\" multiple disabled\n",
              "        style=\"border:none\" />\n",
              "     <output id=\"result-d924e0dc-2656-4ca5-b076-585e587039aa\">\n",
              "      Upload widget is only available when the cell has been executed in the\n",
              "      current browser session. Please rerun this cell to enable.\n",
              "      </output>\n",
              "      <script>// Copyright 2017 Google LLC\n",
              "//\n",
              "// Licensed under the Apache License, Version 2.0 (the \"License\");\n",
              "// you may not use this file except in compliance with the License.\n",
              "// You may obtain a copy of the License at\n",
              "//\n",
              "//      http://www.apache.org/licenses/LICENSE-2.0\n",
              "//\n",
              "// Unless required by applicable law or agreed to in writing, software\n",
              "// distributed under the License is distributed on an \"AS IS\" BASIS,\n",
              "// WITHOUT WARRANTIES OR CONDITIONS OF ANY KIND, either express or implied.\n",
              "// See the License for the specific language governing permissions and\n",
              "// limitations under the License.\n",
              "\n",
              "/**\n",
              " * @fileoverview Helpers for google.colab Python module.\n",
              " */\n",
              "(function(scope) {\n",
              "function span(text, styleAttributes = {}) {\n",
              "  const element = document.createElement('span');\n",
              "  element.textContent = text;\n",
              "  for (const key of Object.keys(styleAttributes)) {\n",
              "    element.style[key] = styleAttributes[key];\n",
              "  }\n",
              "  return element;\n",
              "}\n",
              "\n",
              "// Max number of bytes which will be uploaded at a time.\n",
              "const MAX_PAYLOAD_SIZE = 100 * 1024;\n",
              "\n",
              "function _uploadFiles(inputId, outputId) {\n",
              "  const steps = uploadFilesStep(inputId, outputId);\n",
              "  const outputElement = document.getElementById(outputId);\n",
              "  // Cache steps on the outputElement to make it available for the next call\n",
              "  // to uploadFilesContinue from Python.\n",
              "  outputElement.steps = steps;\n",
              "\n",
              "  return _uploadFilesContinue(outputId);\n",
              "}\n",
              "\n",
              "// This is roughly an async generator (not supported in the browser yet),\n",
              "// where there are multiple asynchronous steps and the Python side is going\n",
              "// to poll for completion of each step.\n",
              "// This uses a Promise to block the python side on completion of each step,\n",
              "// then passes the result of the previous step as the input to the next step.\n",
              "function _uploadFilesContinue(outputId) {\n",
              "  const outputElement = document.getElementById(outputId);\n",
              "  const steps = outputElement.steps;\n",
              "\n",
              "  const next = steps.next(outputElement.lastPromiseValue);\n",
              "  return Promise.resolve(next.value.promise).then((value) => {\n",
              "    // Cache the last promise value to make it available to the next\n",
              "    // step of the generator.\n",
              "    outputElement.lastPromiseValue = value;\n",
              "    return next.value.response;\n",
              "  });\n",
              "}\n",
              "\n",
              "/**\n",
              " * Generator function which is called between each async step of the upload\n",
              " * process.\n",
              " * @param {string} inputId Element ID of the input file picker element.\n",
              " * @param {string} outputId Element ID of the output display.\n",
              " * @return {!Iterable<!Object>} Iterable of next steps.\n",
              " */\n",
              "function* uploadFilesStep(inputId, outputId) {\n",
              "  const inputElement = document.getElementById(inputId);\n",
              "  inputElement.disabled = false;\n",
              "\n",
              "  const outputElement = document.getElementById(outputId);\n",
              "  outputElement.innerHTML = '';\n",
              "\n",
              "  const pickedPromise = new Promise((resolve) => {\n",
              "    inputElement.addEventListener('change', (e) => {\n",
              "      resolve(e.target.files);\n",
              "    });\n",
              "  });\n",
              "\n",
              "  const cancel = document.createElement('button');\n",
              "  inputElement.parentElement.appendChild(cancel);\n",
              "  cancel.textContent = 'Cancel upload';\n",
              "  const cancelPromise = new Promise((resolve) => {\n",
              "    cancel.onclick = () => {\n",
              "      resolve(null);\n",
              "    };\n",
              "  });\n",
              "\n",
              "  // Wait for the user to pick the files.\n",
              "  const files = yield {\n",
              "    promise: Promise.race([pickedPromise, cancelPromise]),\n",
              "    response: {\n",
              "      action: 'starting',\n",
              "    }\n",
              "  };\n",
              "\n",
              "  cancel.remove();\n",
              "\n",
              "  // Disable the input element since further picks are not allowed.\n",
              "  inputElement.disabled = true;\n",
              "\n",
              "  if (!files) {\n",
              "    return {\n",
              "      response: {\n",
              "        action: 'complete',\n",
              "      }\n",
              "    };\n",
              "  }\n",
              "\n",
              "  for (const file of files) {\n",
              "    const li = document.createElement('li');\n",
              "    li.append(span(file.name, {fontWeight: 'bold'}));\n",
              "    li.append(span(\n",
              "        `(${file.type || 'n/a'}) - ${file.size} bytes, ` +\n",
              "        `last modified: ${\n",
              "            file.lastModifiedDate ? file.lastModifiedDate.toLocaleDateString() :\n",
              "                                    'n/a'} - `));\n",
              "    const percent = span('0% done');\n",
              "    li.appendChild(percent);\n",
              "\n",
              "    outputElement.appendChild(li);\n",
              "\n",
              "    const fileDataPromise = new Promise((resolve) => {\n",
              "      const reader = new FileReader();\n",
              "      reader.onload = (e) => {\n",
              "        resolve(e.target.result);\n",
              "      };\n",
              "      reader.readAsArrayBuffer(file);\n",
              "    });\n",
              "    // Wait for the data to be ready.\n",
              "    let fileData = yield {\n",
              "      promise: fileDataPromise,\n",
              "      response: {\n",
              "        action: 'continue',\n",
              "      }\n",
              "    };\n",
              "\n",
              "    // Use a chunked sending to avoid message size limits. See b/62115660.\n",
              "    let position = 0;\n",
              "    do {\n",
              "      const length = Math.min(fileData.byteLength - position, MAX_PAYLOAD_SIZE);\n",
              "      const chunk = new Uint8Array(fileData, position, length);\n",
              "      position += length;\n",
              "\n",
              "      const base64 = btoa(String.fromCharCode.apply(null, chunk));\n",
              "      yield {\n",
              "        response: {\n",
              "          action: 'append',\n",
              "          file: file.name,\n",
              "          data: base64,\n",
              "        },\n",
              "      };\n",
              "\n",
              "      let percentDone = fileData.byteLength === 0 ?\n",
              "          100 :\n",
              "          Math.round((position / fileData.byteLength) * 100);\n",
              "      percent.textContent = `${percentDone}% done`;\n",
              "\n",
              "    } while (position < fileData.byteLength);\n",
              "  }\n",
              "\n",
              "  // All done.\n",
              "  yield {\n",
              "    response: {\n",
              "      action: 'complete',\n",
              "    }\n",
              "  };\n",
              "}\n",
              "\n",
              "scope.google = scope.google || {};\n",
              "scope.google.colab = scope.google.colab || {};\n",
              "scope.google.colab._files = {\n",
              "  _uploadFiles,\n",
              "  _uploadFilesContinue,\n",
              "};\n",
              "})(self);\n",
              "</script> "
            ]
          },
          "metadata": {}
        },
        {
          "output_type": "stream",
          "name": "stdout",
          "text": [
            "Saving Products.txt to Products.txt\n"
          ]
        }
      ]
    },
    {
      "cell_type": "code",
      "source": [
        "purchased_products, remaining_budget = calculate_products_within_budget(\"/path/to/your/Products.txt\", 100)\n",
        "print(\"Purchased Products:\", purchased_products)\n",
        "print(\"Remaining Budget:\", remaining_budget)\n"
      ],
      "metadata": {
        "colab": {
          "base_uri": "https://localhost:8080/"
        },
        "id": "OgN7scDXbFMW",
        "outputId": "4562e524-9ce5-4f89-cd0d-cdeab54698b7"
      },
      "execution_count": 25,
      "outputs": [
        {
          "output_type": "stream",
          "name": "stdout",
          "text": [
            "Error: File '/path/to/your/Products.txt' not found.\n",
            "Purchased Products: []\n",
            "Remaining Budget: 100\n"
          ]
        }
      ]
    },
    {
      "cell_type": "code",
      "source": [
        "def calculate_products_within_budget(filename, budget):\n",
        "    \"\"\"\n",
        "    Calculate products that can be bought within a given budget from a file.\n",
        "\n",
        "    :param filename: str - Name of the file containing product details (product name and price).\n",
        "    :param budget: float - Available budget.\n",
        "    :return: tuple - (list of purchased products, remaining budget).\n",
        "    \"\"\"\n",
        "    purchased_products = []\n",
        "    remaining_budget = budget\n",
        "\n",
        "    try:\n",
        "        # Open and read the file\n",
        "        with open(filename, 'r') as file:\n",
        "            for line in file:\n",
        "                # Split the line into product name and price\n",
        "                product_data = line.strip().split()\n",
        "                if len(product_data) != 2:\n",
        "                    continue  # Skip lines that don't have exactly two elements\n",
        "\n",
        "                product_name, price_str = product_data\n",
        "                try:\n",
        "                    price = float(price_str)\n",
        "                except ValueError:\n",
        "                    continue  # Skip invalid price entries\n",
        "\n",
        "                # Add the product if it fits in the remaining budget\n",
        "                if price <= remaining_budget:\n",
        "                    purchased_products.append(product_name)\n",
        "                    remaining_budget -= price\n",
        "\n",
        "        return purchased_products, remaining_budget\n",
        "    except FileNotFoundError:\n",
        "        print(f\"Error: File '{filename}' not found.\")\n",
        "        return [], budget\n",
        "    except Exception as e:\n",
        "        print(f\"An error occurred: {e}\")\n",
        "        return [], budget\n",
        "\n",
        "\n",
        "# Example Usage\n",
        "filename = \"products.txt\"  # Replace with the path to your file\n",
        "budget = 100  # Replace with your desired budget\n",
        "products, balance = calculate_products_within_budget(filename, budget)\n",
        "\n",
        "print(\"Products Purchased:\", products)\n",
        "print(\"Remaining Budget:\", balance)\n"
      ],
      "metadata": {
        "colab": {
          "base_uri": "https://localhost:8080/"
        },
        "id": "zXCszWJFi79D",
        "outputId": "892953dc-f2b6-4311-d48a-cd38fca20bd6"
      },
      "execution_count": 26,
      "outputs": [
        {
          "output_type": "stream",
          "name": "stdout",
          "text": [
            "Error: File 'products.txt' not found.\n",
            "Products Purchased: []\n",
            "Remaining Budget: 100\n"
          ]
        }
      ]
    }
  ]
}